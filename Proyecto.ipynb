{
 "cells": [
  {
   "cell_type": "markdown",
   "metadata": {},
   "source": [
    "# AB Test"
   ]
  },
  {
   "cell_type": "markdown",
   "metadata": {},
   "source": [
    "* Definir Objetivo"
   ]
  },
  {
   "cell_type": "markdown",
   "metadata": {},
   "source": [
    "El objetivo de la realización de este test es comprobar la eficacia de los cambios para aumentar el número de ventas"
   ]
  },
  {
   "cell_type": "markdown",
   "metadata": {},
   "source": [
    "* Formular hipótesis"
   ]
  },
  {
   "cell_type": "markdown",
   "metadata": {},
   "source": [
    "$H_0$: Los cambios realizados no aumentan las ventas.\n",
    "\n",
    "$H_1$: Los cambios realizados generan un aumento significativo de las ventas."
   ]
  },
  {
   "cell_type": "markdown",
   "metadata": {},
   "source": [
    "* Importar librerias"
   ]
  },
  {
   "cell_type": "code",
   "execution_count": 1,
   "metadata": {},
   "outputs": [],
   "source": [
    "import numpy as np\n",
    "import pandas as pd\n",
    "import matplotlib.pyplot as plt\n",
    "import seaborn as sns\n",
    "from scipy import stats"
   ]
  },
  {
   "cell_type": "code",
   "execution_count": 2,
   "metadata": {},
   "outputs": [],
   "source": [
    "from statsmodels.stats.power import NormalIndPower\n",
    "import statsmodels.stats.api as sms\n",
    "from src import soporte_abtesting as sa"
   ]
  },
  {
   "cell_type": "code",
   "execution_count": 5,
   "metadata": {},
   "outputs": [],
   "source": [
    "import math"
   ]
  },
  {
   "cell_type": "markdown",
   "metadata": {},
   "source": [
    "* Calcular tamaño muestral"
   ]
  },
  {
   "cell_type": "code",
   "execution_count": 28,
   "metadata": {},
   "outputs": [
    {
     "name": "stdout",
     "output_type": "stream",
     "text": [
      "El tamaño muestral debe de ser de: 20\n"
     ]
    }
   ],
   "source": [
    "diferencia = sms.proportion_effectsize(0.81, 1)   \n",
    "\n",
    "tamaño_muestral = sms.NormalIndPower().solve_power(\n",
    "    diferencia,  # el tamaño del efecto calculado en el paso anterior\n",
    "    power=0.8, # la potencia estadística deseada, que recordemos se suele establecer en 0.8\n",
    "    alpha=0.05, # nivel de significancia deseado, que normalmente se establece en 0.05\n",
    "    ratio=1 # La relación entre el tamaño de muestra del grupo experimental y el tamaño de muestra del grupo de control. En este caso, se establece en 1, lo que significa que ambos grupos tendrán el mismo tamaño de muestra.\n",
    "    )                                              \n",
    "                       \n",
    "print(f'El tamaño muestral debe de ser de: {math.ceil(tamaño_muestral)}')"
   ]
  },
  {
   "cell_type": "markdown",
   "metadata": {},
   "source": [
    "* Cargar datasets"
   ]
  },
  {
   "cell_type": "code",
   "execution_count": 29,
   "metadata": {},
   "outputs": [],
   "source": [
    "grupo_control = pd.read_csv(\"datasets/control_group.csv\", sep = \";\")\n",
    "grupo_test = pd.read_csv(\"datasets/test_group.csv\", sep = \";\")"
   ]
  },
  {
   "cell_type": "markdown",
   "metadata": {},
   "source": [
    "* Unir datasets"
   ]
  },
  {
   "cell_type": "code",
   "execution_count": 30,
   "metadata": {},
   "outputs": [],
   "source": [
    "ab_test = pd.concat([grupo_control, grupo_test], axis=0).reset_index(drop = True)"
   ]
  },
  {
   "cell_type": "markdown",
   "metadata": {},
   "source": [
    "* Explorar datasets"
   ]
  },
  {
   "cell_type": "code",
   "execution_count": 35,
   "metadata": {},
   "outputs": [
    {
     "name": "stdout",
     "output_type": "stream",
     "text": [
      "El número de datos es 60 y el de columnas es 10\n",
      "\n",
      " ..................... \n",
      "\n",
      "Los duplicados que tenemos en el conjunto de datos son: 0\n",
      "\n",
      " ..................... \n",
      "\n",
      "Los nulos que tenemos en el conjunto de datos son:\n"
     ]
    },
    {
     "data": {
      "text/html": [
       "<div>\n",
       "<style scoped>\n",
       "    .dataframe tbody tr th:only-of-type {\n",
       "        vertical-align: middle;\n",
       "    }\n",
       "\n",
       "    .dataframe tbody tr th {\n",
       "        vertical-align: top;\n",
       "    }\n",
       "\n",
       "    .dataframe thead th {\n",
       "        text-align: right;\n",
       "    }\n",
       "</style>\n",
       "<table border=\"1\" class=\"dataframe\">\n",
       "  <thead>\n",
       "    <tr style=\"text-align: right;\">\n",
       "      <th></th>\n",
       "      <th>%_nulos</th>\n",
       "    </tr>\n",
       "  </thead>\n",
       "  <tbody>\n",
       "    <tr>\n",
       "      <th># of Impressions</th>\n",
       "      <td>1.666667</td>\n",
       "    </tr>\n",
       "    <tr>\n",
       "      <th>Reach</th>\n",
       "      <td>1.666667</td>\n",
       "    </tr>\n",
       "    <tr>\n",
       "      <th># of Website Clicks</th>\n",
       "      <td>1.666667</td>\n",
       "    </tr>\n",
       "    <tr>\n",
       "      <th># of Searches</th>\n",
       "      <td>1.666667</td>\n",
       "    </tr>\n",
       "    <tr>\n",
       "      <th># of View Content</th>\n",
       "      <td>1.666667</td>\n",
       "    </tr>\n",
       "    <tr>\n",
       "      <th># of Add to Cart</th>\n",
       "      <td>1.666667</td>\n",
       "    </tr>\n",
       "    <tr>\n",
       "      <th># of Purchase</th>\n",
       "      <td>1.666667</td>\n",
       "    </tr>\n",
       "  </tbody>\n",
       "</table>\n",
       "</div>"
      ],
      "text/plain": [
       "                      %_nulos\n",
       "# of Impressions     1.666667\n",
       "Reach                1.666667\n",
       "# of Website Clicks  1.666667\n",
       "# of Searches        1.666667\n",
       "# of View Content    1.666667\n",
       "# of Add to Cart     1.666667\n",
       "# of Purchase        1.666667"
      ]
     },
     "metadata": {},
     "output_type": "display_data"
    },
    {
     "name": "stdout",
     "output_type": "stream",
     "text": [
      "\n",
      " ..................... \n",
      "\n",
      "Los tipos de las columnas son:\n"
     ]
    },
    {
     "data": {
      "text/html": [
       "<div>\n",
       "<style scoped>\n",
       "    .dataframe tbody tr th:only-of-type {\n",
       "        vertical-align: middle;\n",
       "    }\n",
       "\n",
       "    .dataframe tbody tr th {\n",
       "        vertical-align: top;\n",
       "    }\n",
       "\n",
       "    .dataframe thead th {\n",
       "        text-align: right;\n",
       "    }\n",
       "</style>\n",
       "<table border=\"1\" class=\"dataframe\">\n",
       "  <thead>\n",
       "    <tr style=\"text-align: right;\">\n",
       "      <th></th>\n",
       "      <th>tipo_dato</th>\n",
       "    </tr>\n",
       "  </thead>\n",
       "  <tbody>\n",
       "    <tr>\n",
       "      <th>Campaign Name</th>\n",
       "      <td>object</td>\n",
       "    </tr>\n",
       "    <tr>\n",
       "      <th>Date</th>\n",
       "      <td>object</td>\n",
       "    </tr>\n",
       "    <tr>\n",
       "      <th>Spend [USD]</th>\n",
       "      <td>int64</td>\n",
       "    </tr>\n",
       "    <tr>\n",
       "      <th># of Impressions</th>\n",
       "      <td>float64</td>\n",
       "    </tr>\n",
       "    <tr>\n",
       "      <th>Reach</th>\n",
       "      <td>float64</td>\n",
       "    </tr>\n",
       "    <tr>\n",
       "      <th># of Website Clicks</th>\n",
       "      <td>float64</td>\n",
       "    </tr>\n",
       "    <tr>\n",
       "      <th># of Searches</th>\n",
       "      <td>float64</td>\n",
       "    </tr>\n",
       "    <tr>\n",
       "      <th># of View Content</th>\n",
       "      <td>float64</td>\n",
       "    </tr>\n",
       "    <tr>\n",
       "      <th># of Add to Cart</th>\n",
       "      <td>float64</td>\n",
       "    </tr>\n",
       "    <tr>\n",
       "      <th># of Purchase</th>\n",
       "      <td>float64</td>\n",
       "    </tr>\n",
       "  </tbody>\n",
       "</table>\n",
       "</div>"
      ],
      "text/plain": [
       "                    tipo_dato\n",
       "Campaign Name          object\n",
       "Date                   object\n",
       "Spend [USD]             int64\n",
       "# of Impressions      float64\n",
       "Reach                 float64\n",
       "# of Website Clicks   float64\n",
       "# of Searches         float64\n",
       "# of View Content     float64\n",
       "# of Add to Cart      float64\n",
       "# of Purchase         float64"
      ]
     },
     "metadata": {},
     "output_type": "display_data"
    },
    {
     "name": "stdout",
     "output_type": "stream",
     "text": [
      "\n",
      " ..................... \n",
      "\n",
      "Los valores que tenemos para las columnas categóricas son: \n",
      "La columna CAMPAIGN NAME tiene las siguientes valore únicos:\n"
     ]
    },
    {
     "data": {
      "text/html": [
       "<div>\n",
       "<style scoped>\n",
       "    .dataframe tbody tr th:only-of-type {\n",
       "        vertical-align: middle;\n",
       "    }\n",
       "\n",
       "    .dataframe tbody tr th {\n",
       "        vertical-align: top;\n",
       "    }\n",
       "\n",
       "    .dataframe thead th {\n",
       "        text-align: right;\n",
       "    }\n",
       "</style>\n",
       "<table border=\"1\" class=\"dataframe\">\n",
       "  <thead>\n",
       "    <tr style=\"text-align: right;\">\n",
       "      <th></th>\n",
       "      <th>count</th>\n",
       "    </tr>\n",
       "    <tr>\n",
       "      <th>Campaign Name</th>\n",
       "      <th></th>\n",
       "    </tr>\n",
       "  </thead>\n",
       "  <tbody>\n",
       "    <tr>\n",
       "      <th>Control Campaign</th>\n",
       "      <td>30</td>\n",
       "    </tr>\n",
       "    <tr>\n",
       "      <th>Test Campaign</th>\n",
       "      <td>30</td>\n",
       "    </tr>\n",
       "  </tbody>\n",
       "</table>\n",
       "</div>"
      ],
      "text/plain": [
       "                  count\n",
       "Campaign Name          \n",
       "Control Campaign     30\n",
       "Test Campaign        30"
      ]
     },
     "metadata": {},
     "output_type": "display_data"
    },
    {
     "name": "stdout",
     "output_type": "stream",
     "text": [
      "La columna DATE tiene las siguientes valore únicos:\n"
     ]
    },
    {
     "data": {
      "text/html": [
       "<div>\n",
       "<style scoped>\n",
       "    .dataframe tbody tr th:only-of-type {\n",
       "        vertical-align: middle;\n",
       "    }\n",
       "\n",
       "    .dataframe tbody tr th {\n",
       "        vertical-align: top;\n",
       "    }\n",
       "\n",
       "    .dataframe thead th {\n",
       "        text-align: right;\n",
       "    }\n",
       "</style>\n",
       "<table border=\"1\" class=\"dataframe\">\n",
       "  <thead>\n",
       "    <tr style=\"text-align: right;\">\n",
       "      <th></th>\n",
       "      <th>count</th>\n",
       "    </tr>\n",
       "    <tr>\n",
       "      <th>Date</th>\n",
       "      <th></th>\n",
       "    </tr>\n",
       "  </thead>\n",
       "  <tbody>\n",
       "    <tr>\n",
       "      <th>1.08.2019</th>\n",
       "      <td>2</td>\n",
       "    </tr>\n",
       "    <tr>\n",
       "      <th>2.08.2019</th>\n",
       "      <td>2</td>\n",
       "    </tr>\n",
       "    <tr>\n",
       "      <th>3.08.2019</th>\n",
       "      <td>2</td>\n",
       "    </tr>\n",
       "    <tr>\n",
       "      <th>4.08.2019</th>\n",
       "      <td>2</td>\n",
       "    </tr>\n",
       "    <tr>\n",
       "      <th>5.08.2019</th>\n",
       "      <td>2</td>\n",
       "    </tr>\n",
       "  </tbody>\n",
       "</table>\n",
       "</div>"
      ],
      "text/plain": [
       "           count\n",
       "Date            \n",
       "1.08.2019      2\n",
       "2.08.2019      2\n",
       "3.08.2019      2\n",
       "4.08.2019      2\n",
       "5.08.2019      2"
      ]
     },
     "metadata": {},
     "output_type": "display_data"
    },
    {
     "name": "stdout",
     "output_type": "stream",
     "text": [
      "\n",
      " ..................... \n",
      "\n",
      "Los principales estadísticos de las columnas categóricas para el CONTROL CAMPAIGN son: \n"
     ]
    },
    {
     "data": {
      "text/html": [
       "<div>\n",
       "<style scoped>\n",
       "    .dataframe tbody tr th:only-of-type {\n",
       "        vertical-align: middle;\n",
       "    }\n",
       "\n",
       "    .dataframe tbody tr th {\n",
       "        vertical-align: top;\n",
       "    }\n",
       "\n",
       "    .dataframe thead th {\n",
       "        text-align: right;\n",
       "    }\n",
       "</style>\n",
       "<table border=\"1\" class=\"dataframe\">\n",
       "  <thead>\n",
       "    <tr style=\"text-align: right;\">\n",
       "      <th></th>\n",
       "      <th>count</th>\n",
       "      <th>unique</th>\n",
       "      <th>top</th>\n",
       "      <th>freq</th>\n",
       "    </tr>\n",
       "  </thead>\n",
       "  <tbody>\n",
       "    <tr>\n",
       "      <th>Campaign Name</th>\n",
       "      <td>30</td>\n",
       "      <td>1</td>\n",
       "      <td>Control Campaign</td>\n",
       "      <td>30</td>\n",
       "    </tr>\n",
       "    <tr>\n",
       "      <th>Date</th>\n",
       "      <td>30</td>\n",
       "      <td>30</td>\n",
       "      <td>1.08.2019</td>\n",
       "      <td>1</td>\n",
       "    </tr>\n",
       "  </tbody>\n",
       "</table>\n",
       "</div>"
      ],
      "text/plain": [
       "              count unique               top freq\n",
       "Campaign Name    30      1  Control Campaign   30\n",
       "Date             30     30         1.08.2019    1"
      ]
     },
     "metadata": {},
     "output_type": "display_data"
    },
    {
     "name": "stdout",
     "output_type": "stream",
     "text": [
      "\n",
      " ..................... \n",
      "\n",
      "Los principales estadísticos de las columnas numéricas para el CONTROL CAMPAIGN son: \n"
     ]
    },
    {
     "data": {
      "text/html": [
       "<div>\n",
       "<style scoped>\n",
       "    .dataframe tbody tr th:only-of-type {\n",
       "        vertical-align: middle;\n",
       "    }\n",
       "\n",
       "    .dataframe tbody tr th {\n",
       "        vertical-align: top;\n",
       "    }\n",
       "\n",
       "    .dataframe thead th {\n",
       "        text-align: right;\n",
       "    }\n",
       "</style>\n",
       "<table border=\"1\" class=\"dataframe\">\n",
       "  <thead>\n",
       "    <tr style=\"text-align: right;\">\n",
       "      <th></th>\n",
       "      <th>count</th>\n",
       "      <th>mean</th>\n",
       "      <th>std</th>\n",
       "      <th>min</th>\n",
       "      <th>25%</th>\n",
       "      <th>50%</th>\n",
       "      <th>75%</th>\n",
       "      <th>max</th>\n",
       "    </tr>\n",
       "  </thead>\n",
       "  <tbody>\n",
       "    <tr>\n",
       "      <th>Spend [USD]</th>\n",
       "      <td>30.0</td>\n",
       "      <td>2288.433333</td>\n",
       "      <td>367.334451</td>\n",
       "      <td>1757.0</td>\n",
       "      <td>1945.5</td>\n",
       "      <td>2299.5</td>\n",
       "      <td>2532.0</td>\n",
       "      <td>3083.0</td>\n",
       "    </tr>\n",
       "    <tr>\n",
       "      <th># of Impressions</th>\n",
       "      <td>29.0</td>\n",
       "      <td>109559.758621</td>\n",
       "      <td>21688.922908</td>\n",
       "      <td>71274.0</td>\n",
       "      <td>92029.0</td>\n",
       "      <td>113430.0</td>\n",
       "      <td>121332.0</td>\n",
       "      <td>145248.0</td>\n",
       "    </tr>\n",
       "    <tr>\n",
       "      <th>Reach</th>\n",
       "      <td>29.0</td>\n",
       "      <td>88844.931034</td>\n",
       "      <td>21832.349595</td>\n",
       "      <td>42859.0</td>\n",
       "      <td>74192.0</td>\n",
       "      <td>91579.0</td>\n",
       "      <td>102479.0</td>\n",
       "      <td>127852.0</td>\n",
       "    </tr>\n",
       "    <tr>\n",
       "      <th># of Website Clicks</th>\n",
       "      <td>29.0</td>\n",
       "      <td>5320.793103</td>\n",
       "      <td>1757.369003</td>\n",
       "      <td>2277.0</td>\n",
       "      <td>4085.0</td>\n",
       "      <td>5224.0</td>\n",
       "      <td>6628.0</td>\n",
       "      <td>8137.0</td>\n",
       "    </tr>\n",
       "    <tr>\n",
       "      <th># of Searches</th>\n",
       "      <td>29.0</td>\n",
       "      <td>2221.310345</td>\n",
       "      <td>866.089368</td>\n",
       "      <td>1001.0</td>\n",
       "      <td>1615.0</td>\n",
       "      <td>2390.0</td>\n",
       "      <td>2711.0</td>\n",
       "      <td>4891.0</td>\n",
       "    </tr>\n",
       "    <tr>\n",
       "      <th># of View Content</th>\n",
       "      <td>29.0</td>\n",
       "      <td>1943.793103</td>\n",
       "      <td>777.545469</td>\n",
       "      <td>848.0</td>\n",
       "      <td>1249.0</td>\n",
       "      <td>1984.0</td>\n",
       "      <td>2421.0</td>\n",
       "      <td>4219.0</td>\n",
       "    </tr>\n",
       "    <tr>\n",
       "      <th># of Add to Cart</th>\n",
       "      <td>29.0</td>\n",
       "      <td>1300.000000</td>\n",
       "      <td>407.457973</td>\n",
       "      <td>442.0</td>\n",
       "      <td>930.0</td>\n",
       "      <td>1339.0</td>\n",
       "      <td>1641.0</td>\n",
       "      <td>1913.0</td>\n",
       "    </tr>\n",
       "    <tr>\n",
       "      <th># of Purchase</th>\n",
       "      <td>29.0</td>\n",
       "      <td>522.793103</td>\n",
       "      <td>185.028642</td>\n",
       "      <td>222.0</td>\n",
       "      <td>372.0</td>\n",
       "      <td>501.0</td>\n",
       "      <td>670.0</td>\n",
       "      <td>800.0</td>\n",
       "    </tr>\n",
       "  </tbody>\n",
       "</table>\n",
       "</div>"
      ],
      "text/plain": [
       "                     count           mean           std      min      25%  \\\n",
       "Spend [USD]           30.0    2288.433333    367.334451   1757.0   1945.5   \n",
       "# of Impressions      29.0  109559.758621  21688.922908  71274.0  92029.0   \n",
       "Reach                 29.0   88844.931034  21832.349595  42859.0  74192.0   \n",
       "# of Website Clicks   29.0    5320.793103   1757.369003   2277.0   4085.0   \n",
       "# of Searches         29.0    2221.310345    866.089368   1001.0   1615.0   \n",
       "# of View Content     29.0    1943.793103    777.545469    848.0   1249.0   \n",
       "# of Add to Cart      29.0    1300.000000    407.457973    442.0    930.0   \n",
       "# of Purchase         29.0     522.793103    185.028642    222.0    372.0   \n",
       "\n",
       "                          50%       75%       max  \n",
       "Spend [USD]            2299.5    2532.0    3083.0  \n",
       "# of Impressions     113430.0  121332.0  145248.0  \n",
       "Reach                 91579.0  102479.0  127852.0  \n",
       "# of Website Clicks    5224.0    6628.0    8137.0  \n",
       "# of Searches          2390.0    2711.0    4891.0  \n",
       "# of View Content      1984.0    2421.0    4219.0  \n",
       "# of Add to Cart       1339.0    1641.0    1913.0  \n",
       "# of Purchase           501.0     670.0     800.0  "
      ]
     },
     "metadata": {},
     "output_type": "display_data"
    },
    {
     "name": "stdout",
     "output_type": "stream",
     "text": [
      "\n",
      " ..................... \n",
      "\n",
      "Los principales estadísticos de las columnas categóricas para el TEST CAMPAIGN son: \n"
     ]
    },
    {
     "data": {
      "text/html": [
       "<div>\n",
       "<style scoped>\n",
       "    .dataframe tbody tr th:only-of-type {\n",
       "        vertical-align: middle;\n",
       "    }\n",
       "\n",
       "    .dataframe tbody tr th {\n",
       "        vertical-align: top;\n",
       "    }\n",
       "\n",
       "    .dataframe thead th {\n",
       "        text-align: right;\n",
       "    }\n",
       "</style>\n",
       "<table border=\"1\" class=\"dataframe\">\n",
       "  <thead>\n",
       "    <tr style=\"text-align: right;\">\n",
       "      <th></th>\n",
       "      <th>count</th>\n",
       "      <th>unique</th>\n",
       "      <th>top</th>\n",
       "      <th>freq</th>\n",
       "    </tr>\n",
       "  </thead>\n",
       "  <tbody>\n",
       "    <tr>\n",
       "      <th>Campaign Name</th>\n",
       "      <td>30</td>\n",
       "      <td>1</td>\n",
       "      <td>Test Campaign</td>\n",
       "      <td>30</td>\n",
       "    </tr>\n",
       "    <tr>\n",
       "      <th>Date</th>\n",
       "      <td>30</td>\n",
       "      <td>30</td>\n",
       "      <td>1.08.2019</td>\n",
       "      <td>1</td>\n",
       "    </tr>\n",
       "  </tbody>\n",
       "</table>\n",
       "</div>"
      ],
      "text/plain": [
       "              count unique            top freq\n",
       "Campaign Name    30      1  Test Campaign   30\n",
       "Date             30     30      1.08.2019    1"
      ]
     },
     "metadata": {},
     "output_type": "display_data"
    },
    {
     "name": "stdout",
     "output_type": "stream",
     "text": [
      "\n",
      " ..................... \n",
      "\n",
      "Los principales estadísticos de las columnas numéricas para el TEST CAMPAIGN son: \n"
     ]
    },
    {
     "data": {
      "text/html": [
       "<div>\n",
       "<style scoped>\n",
       "    .dataframe tbody tr th:only-of-type {\n",
       "        vertical-align: middle;\n",
       "    }\n",
       "\n",
       "    .dataframe tbody tr th {\n",
       "        vertical-align: top;\n",
       "    }\n",
       "\n",
       "    .dataframe thead th {\n",
       "        text-align: right;\n",
       "    }\n",
       "</style>\n",
       "<table border=\"1\" class=\"dataframe\">\n",
       "  <thead>\n",
       "    <tr style=\"text-align: right;\">\n",
       "      <th></th>\n",
       "      <th>count</th>\n",
       "      <th>mean</th>\n",
       "      <th>std</th>\n",
       "      <th>min</th>\n",
       "      <th>25%</th>\n",
       "      <th>50%</th>\n",
       "      <th>75%</th>\n",
       "      <th>max</th>\n",
       "    </tr>\n",
       "  </thead>\n",
       "  <tbody>\n",
       "    <tr>\n",
       "      <th>Spend [USD]</th>\n",
       "      <td>30.0</td>\n",
       "      <td>2563.066667</td>\n",
       "      <td>348.687681</td>\n",
       "      <td>1968.0</td>\n",
       "      <td>2324.50</td>\n",
       "      <td>2584.0</td>\n",
       "      <td>2836.25</td>\n",
       "      <td>3112.0</td>\n",
       "    </tr>\n",
       "    <tr>\n",
       "      <th># of Impressions</th>\n",
       "      <td>30.0</td>\n",
       "      <td>74584.800000</td>\n",
       "      <td>32121.377422</td>\n",
       "      <td>22521.0</td>\n",
       "      <td>47541.25</td>\n",
       "      <td>68853.5</td>\n",
       "      <td>99500.00</td>\n",
       "      <td>133771.0</td>\n",
       "    </tr>\n",
       "    <tr>\n",
       "      <th>Reach</th>\n",
       "      <td>30.0</td>\n",
       "      <td>53491.566667</td>\n",
       "      <td>28795.775752</td>\n",
       "      <td>10598.0</td>\n",
       "      <td>31516.25</td>\n",
       "      <td>44219.5</td>\n",
       "      <td>78778.75</td>\n",
       "      <td>109834.0</td>\n",
       "    </tr>\n",
       "    <tr>\n",
       "      <th># of Website Clicks</th>\n",
       "      <td>30.0</td>\n",
       "      <td>6032.333333</td>\n",
       "      <td>1708.567263</td>\n",
       "      <td>3038.0</td>\n",
       "      <td>4407.00</td>\n",
       "      <td>6242.5</td>\n",
       "      <td>7604.75</td>\n",
       "      <td>8264.0</td>\n",
       "    </tr>\n",
       "    <tr>\n",
       "      <th># of Searches</th>\n",
       "      <td>30.0</td>\n",
       "      <td>2418.966667</td>\n",
       "      <td>388.742312</td>\n",
       "      <td>1854.0</td>\n",
       "      <td>2043.00</td>\n",
       "      <td>2395.5</td>\n",
       "      <td>2801.25</td>\n",
       "      <td>2978.0</td>\n",
       "    </tr>\n",
       "    <tr>\n",
       "      <th># of View Content</th>\n",
       "      <td>30.0</td>\n",
       "      <td>1858.000000</td>\n",
       "      <td>597.654669</td>\n",
       "      <td>858.0</td>\n",
       "      <td>1320.00</td>\n",
       "      <td>1881.0</td>\n",
       "      <td>2412.00</td>\n",
       "      <td>2801.0</td>\n",
       "    </tr>\n",
       "    <tr>\n",
       "      <th># of Add to Cart</th>\n",
       "      <td>30.0</td>\n",
       "      <td>881.533333</td>\n",
       "      <td>347.584248</td>\n",
       "      <td>278.0</td>\n",
       "      <td>582.50</td>\n",
       "      <td>974.0</td>\n",
       "      <td>1148.50</td>\n",
       "      <td>1391.0</td>\n",
       "    </tr>\n",
       "    <tr>\n",
       "      <th># of Purchase</th>\n",
       "      <td>30.0</td>\n",
       "      <td>521.233333</td>\n",
       "      <td>211.047745</td>\n",
       "      <td>238.0</td>\n",
       "      <td>298.00</td>\n",
       "      <td>500.0</td>\n",
       "      <td>701.00</td>\n",
       "      <td>890.0</td>\n",
       "    </tr>\n",
       "  </tbody>\n",
       "</table>\n",
       "</div>"
      ],
      "text/plain": [
       "                     count          mean           std      min       25%  \\\n",
       "Spend [USD]           30.0   2563.066667    348.687681   1968.0   2324.50   \n",
       "# of Impressions      30.0  74584.800000  32121.377422  22521.0  47541.25   \n",
       "Reach                 30.0  53491.566667  28795.775752  10598.0  31516.25   \n",
       "# of Website Clicks   30.0   6032.333333   1708.567263   3038.0   4407.00   \n",
       "# of Searches         30.0   2418.966667    388.742312   1854.0   2043.00   \n",
       "# of View Content     30.0   1858.000000    597.654669    858.0   1320.00   \n",
       "# of Add to Cart      30.0    881.533333    347.584248    278.0    582.50   \n",
       "# of Purchase         30.0    521.233333    211.047745    238.0    298.00   \n",
       "\n",
       "                         50%       75%       max  \n",
       "Spend [USD]           2584.0   2836.25    3112.0  \n",
       "# of Impressions     68853.5  99500.00  133771.0  \n",
       "Reach                44219.5  78778.75  109834.0  \n",
       "# of Website Clicks   6242.5   7604.75    8264.0  \n",
       "# of Searches         2395.5   2801.25    2978.0  \n",
       "# of View Content     1881.0   2412.00    2801.0  \n",
       "# of Add to Cart       974.0   1148.50    1391.0  \n",
       "# of Purchase          500.0    701.00     890.0  "
      ]
     },
     "metadata": {},
     "output_type": "display_data"
    }
   ],
   "source": [
    "sa.exploracion_dataframe(ab_test, \"Campaign Name\")"
   ]
  },
  {
   "cell_type": "markdown",
   "metadata": {},
   "source": [
    "* Dado que existen nulos vamos a tratarlos y rellenarlos con la media"
   ]
  },
  {
   "cell_type": "code",
   "execution_count": 36,
   "metadata": {},
   "outputs": [
    {
     "name": "stderr",
     "output_type": "stream",
     "text": [
      "C:\\Users\\pepel\\AppData\\Local\\Temp\\ipykernel_2364\\2584583693.py:1: FutureWarning: Series.__getitem__ treating keys as positions is deprecated. In a future version, integer keys will always be treated as labels (consistent with DataFrame behavior). To access a value by position, use `ser.iloc[pos]`\n",
      "  ab_test[['# of Impressions', 'Reach',\n"
     ]
    }
   ],
   "source": [
    "ab_test[['# of Impressions', 'Reach',\n",
    "       '# of Website Clicks', '# of Searches', '# of View Content',\n",
    "       '# of Add to Cart', '# of Purchase']] = ab_test[['# of Impressions', 'Reach',\n",
    "       '# of Website Clicks', '# of Searches', '# of View Content',\n",
    "       '# of Add to Cart', '# of Purchase']].mean()"
   ]
  },
  {
   "cell_type": "markdown",
   "metadata": {},
   "source": [
    "* Cambiamos el tipo de dato de la columna Date a fecha"
   ]
  },
  {
   "cell_type": "code",
   "execution_count": 55,
   "metadata": {},
   "outputs": [],
   "source": [
    "ab_test[\"Date\"] = pd.to_datetime(ab_test[\"Date\"], errors=\"coerce\")"
   ]
  },
  {
   "cell_type": "markdown",
   "metadata": {},
   "source": [
    "* Comprobamos que ya no hay nulos"
   ]
  },
  {
   "cell_type": "code",
   "execution_count": 37,
   "metadata": {},
   "outputs": [
    {
     "data": {
      "text/plain": [
       "Campaign Name          0\n",
       "Date                   0\n",
       "Spend [USD]            0\n",
       "# of Impressions       0\n",
       "Reach                  0\n",
       "# of Website Clicks    0\n",
       "# of Searches          0\n",
       "# of View Content      0\n",
       "# of Add to Cart       0\n",
       "# of Purchase          0\n",
       "dtype: int64"
      ]
     },
     "execution_count": 37,
     "metadata": {},
     "output_type": "execute_result"
    }
   ],
   "source": [
    "ab_test.isna().sum()"
   ]
  },
  {
   "cell_type": "markdown",
   "metadata": {},
   "source": [
    "* Calculamos el ratio de conversión"
   ]
  },
  {
   "cell_type": "code",
   "execution_count": 50,
   "metadata": {},
   "outputs": [
    {
     "data": {
      "text/html": [
       "<div>\n",
       "<style scoped>\n",
       "    .dataframe tbody tr th:only-of-type {\n",
       "        vertical-align: middle;\n",
       "    }\n",
       "\n",
       "    .dataframe tbody tr th {\n",
       "        vertical-align: top;\n",
       "    }\n",
       "\n",
       "    .dataframe thead th {\n",
       "        text-align: right;\n",
       "    }\n",
       "</style>\n",
       "<table border=\"1\" class=\"dataframe\">\n",
       "  <thead>\n",
       "    <tr style=\"text-align: right;\">\n",
       "      <th></th>\n",
       "      <th>mean</th>\n",
       "      <th>std</th>\n",
       "    </tr>\n",
       "    <tr>\n",
       "      <th>Campaign Name</th>\n",
       "      <th></th>\n",
       "      <th></th>\n",
       "    </tr>\n",
       "  </thead>\n",
       "  <tbody>\n",
       "    <tr>\n",
       "      <th>Control Campaign</th>\n",
       "      <td>2288.4333</td>\n",
       "      <td>367.3345</td>\n",
       "    </tr>\n",
       "    <tr>\n",
       "      <th>Test Campaign</th>\n",
       "      <td>2563.0667</td>\n",
       "      <td>348.6877</td>\n",
       "    </tr>\n",
       "  </tbody>\n",
       "</table>\n",
       "</div>"
      ],
      "text/plain": [
       "                       mean       std\n",
       "Campaign Name                        \n",
       "Control Campaign  2288.4333  367.3345\n",
       "Test Campaign     2563.0667  348.6877"
      ]
     },
     "metadata": {},
     "output_type": "display_data"
    },
    {
     "data": {
      "image/png": "[encoded data removed]",
      "text/plain": [
       "<Figure size 640x480 with 1 Axes>"
      ]
     },
     "metadata": {},
     "output_type": "display_data"
    }
   ],
   "source": [
    "ratio_conversion = ab_test.groupby('Campaign Name')['Spend [USD]'].agg([\"mean\", \"std\"]).round(4)\n",
    "display(ratio_conversion)\n",
    "\n",
    "fig = sns.barplot(ratio_conversion, \n",
    "                  x = ratio_conversion.index, \n",
    "                  y = \"mean\") \n",
    "\n",
    "# ponemos las etiquetas en cada una de las barras\n",
    "fig.bar_label(fig.containers[0], fontsize=10)\n",
    "\n",
    "# eliminar los ejes de arriba y la derecha\n",
    "fig.spines['top'].set_visible(False)\n",
    "fig.spines['right'].set_visible(False)\n",
    "\n",
    "# ponemos título a la gráfica\n",
    "fig.set_title(\"Tasas de conversión para cada grupo\")\n",
    "\n",
    "# cambiamos el nombre del eje y\n",
    "fig.set_ylabel(\"Tasa de conversion\", fontsize = 8)\n",
    "\n",
    "# quitamos el nombre del eje x\n",
    "fig.set_xlabel(\"\");"
   ]
  },
  {
   "cell_type": "markdown",
   "metadata": {},
   "source": [
    "Dados los resultados, podemos decir que el test supera a los resultados originales en media, lo que sugiere que el cambio podría haber mejorado el rendimiento.\n",
    "\n",
    "Aunque hay dispersión en ambos grupos, los valores no son extremadamente diferentes lo que sugiere que los resultados son consistentes y no hay valores atípicos.\n",
    "\n",
    "En conclusión se puede decir que el grupo de test tiene un rendimiento superior al de control ya que tiene una media más alta y la variabilidad es similar."
   ]
  },
  {
   "cell_type": "code",
   "execution_count": 57,
   "metadata": {},
   "outputs": [
    {
     "data": {
      "image/png": "[encoded data removed]",
      "text/plain": [
       "<Figure size 1000x600 with 1 Axes>"
      ]
     },
     "metadata": {},
     "output_type": "display_data"
    }
   ],
   "source": [
    "# vamos a analizar ahora si la tasa de conversión varía a lo largo de la semana, para eso lo primero que vamos a hacer es un groupby\n",
    "df_groupby = ab_test.groupby([\"Campaign Name\", ab_test[\"Date\"].dt.day_name()])[\"Spend [USD]\"].mean().reset_index()\n",
    "\n",
    "# establecemos el tamaño de la gráfica\n",
    "plt.figure(figsize=(10, 6))\n",
    "\n",
    "# creamos una lista para establecer el orden de las barras de la semana\n",
    "days_order = [\"Monday\", \"Tuesday\", \"Wednesday\", \"Thursday\", \"Friday\", \"Saturday\", \"Sunday\"]\n",
    "\n",
    "# creamos un barplot\n",
    "fig3 = sns.barplot(data=df_groupby, \n",
    "                   x='Date', \n",
    "                   y='Spend [USD]', \n",
    "                   hue='Campaign Name', \n",
    "                   order=days_order) # establecemos el orden de las barras )\n",
    "\n",
    "# cambiamos la posición de la leyenda\n",
    "fig3.legend(loc = 'upper right', # especificamos la ubicación de la leyenda\n",
    "            bbox_to_anchor=(1.1, 1)) # especificamos las coordenadas de la leyenda \n",
    "\n",
    "# cambiamos la rotación de las etiquetas de los ejes\n",
    "fig3.set_xticks(ticks = range(len(days_order)), # las posiciones de las etiquetas\n",
    "                labels = days_order, # el nombre de las etiquetas\n",
    "                rotation = 90) # que rotamos las etiquetas 90º\n",
    "\n",
    "# eliminamos los ejes de arriba y la derecha\n",
    "fig3.spines['top'].set_visible(False)\n",
    "fig3.spines['right'].set_visible(False)\n",
    "\n",
    "# ponemos título a la gráfica\n",
    "fig3.set_title(\"Tasa de Conversión por Día de Semana y Grupo\");"
   ]
  },
  {
   "cell_type": "markdown",
   "metadata": {},
   "source": [
    "Si analizamos la tasa de conversión por días podemos observar que los datos son muy parecidos en todos los días teniendo como excepción el sábado ya que es el único día que el grupo de control es superior al test."
   ]
  },
  {
   "cell_type": "markdown",
   "metadata": {},
   "source": [
    "* AB Testing"
   ]
  },
  {
   "cell_type": "markdown",
   "metadata": {},
   "source": [
    "Para confirmar lo visto en los cálculos y gráficas anteriores vamos a realizar un t-test ya que tenemos dos grupos independientes en el cual queremos valorar el cambio en el nº de ventas tras aplicar un cambio"
   ]
  },
  {
   "cell_type": "code",
   "execution_count": 58,
   "metadata": {},
   "outputs": [
    {
     "data": {
      "text/html": [
       "<div>\n",
       "<style scoped>\n",
       "    .dataframe tbody tr th:only-of-type {\n",
       "        vertical-align: middle;\n",
       "    }\n",
       "\n",
       "    .dataframe tbody tr th {\n",
       "        vertical-align: top;\n",
       "    }\n",
       "\n",
       "    .dataframe thead th {\n",
       "        text-align: right;\n",
       "    }\n",
       "</style>\n",
       "<table border=\"1\" class=\"dataframe\">\n",
       "  <thead>\n",
       "    <tr style=\"text-align: right;\">\n",
       "      <th></th>\n",
       "      <th>Campaign Name</th>\n",
       "      <th>CTR</th>\n",
       "    </tr>\n",
       "  </thead>\n",
       "  <tbody>\n",
       "    <tr>\n",
       "      <th>0</th>\n",
       "      <td>Control Campaign</td>\n",
       "      <td>0.011531</td>\n",
       "    </tr>\n",
       "    <tr>\n",
       "      <th>1</th>\n",
       "      <td>Control Campaign</td>\n",
       "      <td>0.026422</td>\n",
       "    </tr>\n",
       "    <tr>\n",
       "      <th>2</th>\n",
       "      <td>Control Campaign</td>\n",
       "      <td>0.025025</td>\n",
       "    </tr>\n",
       "    <tr>\n",
       "      <th>3</th>\n",
       "      <td>Control Campaign</td>\n",
       "      <td>0.026038</td>\n",
       "    </tr>\n",
       "    <tr>\n",
       "      <th>4</th>\n",
       "      <td>Control Campaign</td>\n",
       "      <td>0.013482</td>\n",
       "    </tr>\n",
       "  </tbody>\n",
       "</table>\n",
       "</div>"
      ],
      "text/plain": [
       "      Campaign Name       CTR\n",
       "0  Control Campaign  0.011531\n",
       "1  Control Campaign  0.026422\n",
       "2  Control Campaign  0.025025\n",
       "3  Control Campaign  0.026038\n",
       "4  Control Campaign  0.013482"
      ]
     },
     "execution_count": 58,
     "metadata": {},
     "output_type": "execute_result"
    }
   ],
   "source": [
    "data_t = {'Campaign Name': ['Control Campaign'] * 25 + ['Test Campaign'] * 25,\n",
    "        'CTR': np.concatenate([np.random.normal(0.02, 0.01, 25),\n",
    "                               np.random.normal(0.025, 0.01, 25)])}\n",
    "\n",
    "df_t = pd.DataFrame(data_t)\n",
    "df_t.head()"
   ]
  },
  {
   "cell_type": "code",
   "execution_count": 60,
   "metadata": {},
   "outputs": [
    {
     "data": {
      "text/plain": [
       "<Axes: xlabel='Campaign Name', ylabel='CTR'>"
      ]
     },
     "execution_count": 60,
     "metadata": {},
     "output_type": "execute_result"
    },
    {
     "data": {
      "image/png": "[encoded data removed]",
      "text/plain": [
       "<Figure size 640x480 with 1 Axes>"
      ]
     },
     "metadata": {},
     "output_type": "display_data"
    }
   ],
   "source": [
    "sns.barplot(x=\"Campaign Name\", y=\"CTR\", data=df_t)"
   ]
  },
  {
   "cell_type": "code",
   "execution_count": 61,
   "metadata": {},
   "outputs": [
    {
     "name": "stdout",
     "output_type": "stream",
     "text": [
      "Estadístico t: -3.0823668114603198\n",
      "Valor p: 0.003398036894447293\n",
      "El p-valor de la prueba es 0.0034, por lo tanto, hay diferencias significativas entre los grupos.\n"
     ]
    }
   ],
   "source": [
    "ab_testing = sa.Pruebas_parametricas(\"Campaign Name\",  \"CTR\", df_t)\n",
    "ab_testing.test_t()"
   ]
  },
  {
   "cell_type": "markdown",
   "metadata": {},
   "source": [
    "Dados los resultados del test podemos decir que los cambios realizados tienen un impacto significativo en las ventas.\n",
    "Con un valor p de 0.0034, al ser < 0 05, rechazamos la hipótesis nula (H₀). \n",
    "Como resultado de los test realizaos, se podría considerar aplicar los cambios de forma definitiva."
   ]
  }
 ],
 "metadata": {
  "kernelspec": {
   "display_name": "venv",
   "language": "python",
   "name": "python3"
  },
  "language_info": {
   "codemirror_mode": {
    "name": "ipython",
    "version": 3
   },
   "file_extension": ".py",
   "mimetype": "text/x-python",
   "name": "python",
   "nbconvert_exporter": "python",
   "pygments_lexer": "ipython3",
   "version": "3.12.5"
  }
 },
 "nbformat": 4,
 "nbformat_minor": 2
}
